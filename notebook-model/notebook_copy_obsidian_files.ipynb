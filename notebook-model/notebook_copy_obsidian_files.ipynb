{
 "cells": [
  {
   "cell_type": "code",
   "execution_count": null,
   "metadata": {},
   "outputs": [],
   "source": [
    "import os\n",
    "import shutil\n",
    "from pathlib import Path\n",
    "from dotenv_vault import load_dotenv\n",
    "load_dotenv()\n",
    "\n",
    "\n",
    "# Define the source and target directories\n",
    "source_dir = os.getenv('SOURCE_DIR')\n",
    "target_dir = os.getenv('TARGET_DIR')\n",
    "\n",
    "# Ensure the target directory exists\n",
    "os.makedirs(target_dir, exist_ok=True)\n",
    "\n",
    "# Function to copy markdown files~\n",
    "def copy_markdown_files(src, dst):\n",
    "    for file_path in Path(src).rglob('*.md'):\n",
    "        try:\n",
    "            shutil.copy(file_path, dst)\n",
    "            print(f\"Copied {file_path} to {dst}\")\n",
    "        except Exception as e:\n",
    "            print(f\"Failed to copy {file_path}. Reason: {e}\")\n",
    "\n",
    "# Copy all markdown files\n",
    "copy_markdown_files(source_dir, target_dir)\n",
    "\n",
    "print(\"All files copied successfully.\")\n"
   ]
  }
 ],
 "metadata": {
  "kernelspec": {
   "display_name": "Python 3",
   "language": "python",
   "name": "python3"
  },
  "language_info": {
   "codemirror_mode": {
    "name": "ipython",
    "version": 3
   },
   "file_extension": ".py",
   "mimetype": "text/x-python",
   "name": "python",
   "nbconvert_exporter": "python",
   "pygments_lexer": "ipython3",
   "version": "3.11.8"
  }
 },
 "nbformat": 4,
 "nbformat_minor": 2
}
