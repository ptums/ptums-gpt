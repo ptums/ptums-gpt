{
 "cells": [
  {
   "cell_type": "code",
   "execution_count": null,
   "metadata": {},
   "outputs": [],
   "source": [
    "# 1. Export your models\n",
    "import torch\n",
    "import joblib\n",
    "from flask import Flask, request, jsonify\n",
    "from flask_cors import CORS\n",
    "import torch\n",
    "import os\n",
    "\n",
    "from dotenv_vault import load_dotenv\n",
    "load_dotenv()\n",
    "\n",
    "# Start Server\n",
    "app = Flask(__name__)\n",
    "CORS(app)\n",
    "\n",
    "model_pt_file = os.getenv('MODEL_PT_FILE')\n",
    "loaded_model = torch.jit.load(model_pt_file)\n",
    "\n",
    "@app.route('/predict', methods=['POST'])\n",
    "def predict():\n",
    "    data = request.json\n",
    "    input_data = torch.tensor(data['input'], dtype=torch.float32)\n",
    "    \n",
    "    # Make prediction\n",
    "    with torch.no_grad():\n",
    "        output = loaded_model(input_data)\n",
    "    \n",
    "    return jsonify({\n",
    "        'message': output.squeeze().item()  # Convert to Python scalar\n",
    "    })\n",
    "\n",
    "if __name__ == '__main__':\n",
    "    app.run(host='0.0.0.0', port=5002)\n",
    "\n"
   ]
  }
 ],
 "metadata": {
  "kernelspec": {
   "display_name": "Python 3",
   "language": "python",
   "name": "python3"
  },
  "language_info": {
   "codemirror_mode": {
    "name": "ipython",
    "version": 3
   },
   "file_extension": ".py",
   "mimetype": "text/x-python",
   "name": "python",
   "nbconvert_exporter": "python",
   "pygments_lexer": "ipython3",
   "version": "3.11.8"
  }
 },
 "nbformat": 4,
 "nbformat_minor": 2
}
