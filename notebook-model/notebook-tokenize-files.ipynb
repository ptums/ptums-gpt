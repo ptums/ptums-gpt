{
 "cells": [
  {
   "cell_type": "code",
   "execution_count": null,
   "metadata": {},
   "outputs": [],
   "source": [
    "import pandas as pd\n",
    "import nltk\n",
    "from nltk.tokenize import word_tokenize\n",
    "import re\n",
    "import torch\n",
    "import torch.nn as nn\n",
    "from collections import Counter\n",
    "from torch.utils.data import DataLoader, Dataset\n",
    "import os\n",
    "\n",
    "nltk.download('punkt')\n",
    "\n",
    "# Load the CSV file\n",
    "csv_file = os.getenv('PROCESSED_NOTES_CSV')\n",
    "tokenize_notes = os.getenv('TOKENIZE_NOTES')\n",
    "df = pd.read_csv(csv_file)\n",
    "\n",
    "# Display the first few rows of the DataFrame\n",
    "print(df.head())\n"
   ]
  },
  {
   "cell_type": "code",
   "execution_count": null,
   "metadata": {},
   "outputs": [],
   "source": [
    "\n",
    "# Ensure all entries in 'content' are strings and handle missing values\n",
    "df['content'] = df['content'].astype(str).fillna('')\n",
    "\n",
    "def clean_text(text):\n",
    "    text = text.lower()\n",
    "    text = re.sub(r'\\s+', ' ', text)  # Remove extra spaces\n",
    "    text = re.sub(r'[^a-zA-Z0-9\\s]', '', text)  # Remove punctuation\n",
    "    return text\n",
    "\n",
    "def tokenize_text(text):\n",
    "    tokens = word_tokenize(text)\n",
    "    return ' '.join(tokens)\n",
    "\n",
    "# Apply cleaning and tokenization\n",
    "df['cleaned_content'] = df['content'].apply(clean_text).apply(tokenize_text)\n",
    "\n",
    "# Display the cleaned text\n",
    "print(df[['content', 'cleaned_content']].head())\n"
   ]
  },
  {
   "cell_type": "code",
   "execution_count": 3,
   "metadata": {},
   "outputs": [
    {
     "name": "stdout",
     "output_type": "stream",
     "text": [
      "Feature engineering complete.\n"
     ]
    }
   ],
   "source": [
    "# Build vocabulary\n",
    "all_tokens = [token for tokens in df['cleaned_content'] for token in tokens]\n",
    "vocab = Counter(all_tokens)\n",
    "vocab = {word: i+1 for i, (word, _) in enumerate(vocab.items())}  # +1 to reserve 0 for padding\n",
    "vocab_size = len(vocab) + 1  # +1 for padding token\n",
    "\n",
    "# Parameters\n",
    "embedding_dim = 50  # Dimension of embeddings\n",
    "max_len = max(df['cleaned_content'].apply(len))  # Maximum length of tokenized sequences\n",
    "\n",
    "# Dataset class\n",
    "class TextDataset(Dataset):\n",
    "    def __init__(self, texts, labels=None):\n",
    "        self.texts = texts\n",
    "        self.labels = labels\n",
    "\n",
    "    def __len__(self):\n",
    "        return len(self.texts)\n",
    "\n",
    "    def __getitem__(self, idx):\n",
    "        text = self.texts[idx]\n",
    "        text_idx = [vocab.get(word, 0) for word in text]  # Convert words to indices\n",
    "        text_idx = text_idx[:max_len]  # Truncate to max_len\n",
    "        text_idx += [0] * (max_len - len(text_idx))  # Pad sequences\n",
    "        return torch.tensor(text_idx, dtype=torch.long)\n",
    "\n",
    "# Create dataset\n",
    "dataset = TextDataset(df['cleaned_content'].tolist())\n",
    "\n",
    "# DataLoader\n",
    "batch_size = 32\n",
    "dataloader = DataLoader(dataset, batch_size=batch_size, shuffle=False)\n",
    "\n",
    "# Embedding layer\n",
    "embedding_layer = nn.Embedding(vocab_size, embedding_dim)\n",
    "\n",
    "# Extract embeddings\n",
    "embeddings = []\n",
    "with torch.no_grad():\n",
    "    for batch in dataloader:\n",
    "        batch_embeddings = embedding_layer(batch)\n",
    "        batch_embeddings = batch_embeddings.mean(dim=1)  # Average embeddings for each sequence\n",
    "        embeddings.append(batch_embeddings)\n",
    "\n",
    "embeddings = torch.cat(embeddings, dim=0)\n",
    "\n",
    "# Convert embeddings to DataFrame\n",
    "embeddings_df = pd.DataFrame(embeddings.numpy())\n",
    "\n",
    "# Extract metadata: word count and text length\n",
    "df['word_count'] = df['cleaned_content'].apply(lambda x: len(x))\n",
    "df['content_length'] = df['cleaned_content'].apply(lambda x: len(' '.join(x)))\n",
    "\n",
    "# Combine embeddings with metadata\n",
    "final_df = pd.concat([df.drop(columns=['content', 'cleaned_content']), embeddings_df], axis=1)\n",
    "\n",
    "# Save final features to a new CSV file\n",
    "final_df.to_csv(tokenize_notes, index=False)\n",
    "\n",
    "print(\"Feature engineering complete.\")"
   ]
  }
 ],
 "metadata": {
  "kernelspec": {
   "display_name": "Python 3",
   "language": "python",
   "name": "python3"
  },
  "language_info": {
   "codemirror_mode": {
    "name": "ipython",
    "version": 3
   },
   "file_extension": ".py",
   "mimetype": "text/x-python",
   "name": "python",
   "nbconvert_exporter": "python",
   "pygments_lexer": "ipython3",
   "version": "3.11.8"
  }
 },
 "nbformat": 4,
 "nbformat_minor": 2
}
