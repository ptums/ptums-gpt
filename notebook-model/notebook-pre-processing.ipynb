{
 "cells": [
  {
   "cell_type": "code",
   "execution_count": 1,
   "metadata": {},
   "outputs": [
    {
     "name": "stdout",
     "output_type": "stream",
     "text": [
      "Data preprocessing complete.\n"
     ]
    }
   ],
   "source": [
    "import os\n",
    "import re\n",
    "import pandas as pd\n",
    "from pathlib import Path\n",
    "\n",
    "# Directory containing Obsidian notes\n",
    "notes_dir = os.getenv('TARGET_DIR')\n",
    "processed_notes_csv = os.getenv('PROCESSED_NOTES_CSV')\n",
    "processed_notes_json = os.getenv('PROCESSED_NOTES_JSON')\n",
    "\n",
    "# Function to clean markdown text\n",
    "def clean_text(text):\n",
    "    # Remove markdown links, images, etc.\n",
    "    text = re.sub(r'!\\[.*?\\]\\(.*?\\)', '', text)\n",
    "    text = re.sub(r'\\[.*?\\]\\(.*?\\)', '', text)\n",
    "    # Remove markdown headers\n",
    "    text = re.sub(r'#.*', '', text)\n",
    "    # Remove extra spaces and newlines\n",
    "    text = text.strip()\n",
    "    text = re.sub(r'\\s+', ' ', text)\n",
    "    return text\n",
    "\n",
    "# Extract content from markdown files\n",
    "data = []\n",
    "for file in Path(notes_dir).glob('**/*.md'):\n",
    "    with open(file, 'r', encoding='utf-8') as f:\n",
    "        content = f.read()\n",
    "        cleaned_content = clean_text(content)\n",
    "        data.append({'filename': file.name, 'content': cleaned_content})\n",
    "\n",
    "# Convert to DataFrame\n",
    "df = pd.DataFrame(data)\n",
    "\n",
    "# Save to CSV or JSON\n",
    "df.to_csv(processed_notes_csv, index=False)\n",
    "# or\n",
    "df.to_json(processed_notes_json, orient='records', lines=True)\n",
    "\n",
    "print(\"Data preprocessing complete.\")\n"
   ]
  }
 ],
 "metadata": {
  "kernelspec": {
   "display_name": "Python 3",
   "language": "python",
   "name": "python3"
  },
  "language_info": {
   "codemirror_mode": {
    "name": "ipython",
    "version": 3
   },
   "file_extension": ".py",
   "mimetype": "text/x-python",
   "name": "python",
   "nbconvert_exporter": "python",
   "pygments_lexer": "ipython3",
   "version": "3.11.8"
  }
 },
 "nbformat": 4,
 "nbformat_minor": 2
}
