{
 "cells": [
  {
   "cell_type": "code",
   "execution_count": 43,
   "metadata": {},
   "outputs": [],
   "source": [
    "import pandas as pd\n",
    "import torch\n",
    "from transformers import GPT2LMHeadModel, GPT2Tokenizer, TextDataset, DataCollatorForLanguageModeling\n",
    "from transformers import Trainer, TrainingArguments\n",
    "from datasets import Dataset"
   ]
  },
  {
   "cell_type": "code",
   "execution_count": 44,
   "metadata": {},
   "outputs": [
    {
     "name": "stdout",
     "output_type": "stream",
     "text": [
      "Successfully created notes.txt\n"
     ]
    }
   ],
   "source": [
    "# Load the CSV file\n",
    "df = pd.read_csv('processed_data/notes.csv')\n",
    "\n",
    "# Function to safely convert content to string\n",
    "def safe_str(x):\n",
    "    if pd.isna(x):\n",
    "        return \"\"\n",
    "    elif isinstance(x, (int, float)):\n",
    "        return str(int(x))  # Convert numbers to integers before string conversion\n",
    "    else:\n",
    "        return str(x)\n",
    "\n",
    "# Combine all content into a single text file\n",
    "try:\n",
    "    with open('processed_data/notes.txt', 'w', encoding='utf-8') as f:\n",
    "        for content in df['content'].apply(safe_str):\n",
    "            f.write(content + '\\n\\n')  # Add two newlines between entries\n",
    "    print(\"Successfully created notes.txt\")\n",
    "except Exception as e:\n",
    "    print(f\"Error while writing combined file: {e}\")\n",
    "    print(\"First few rows of 'content' column:\")\n",
    "    print(df['content'].head())\n",
    "    raise"
   ]
  },
  {
   "cell_type": "code",
   "execution_count": 45,
   "metadata": {},
   "outputs": [
    {
     "name": "stdout",
     "output_type": "stream",
     "text": [
      "Using device: mps\n"
     ]
    }
   ],
   "source": [
    "# Device configuration with fallback\n",
    "# This has to do with setting what Chip Architecture stuff. Changing to M1Chip\n",
    "def get_device():\n",
    "    if torch.backends.mps.is_available():\n",
    "        try:\n",
    "            # Test MPS availability\n",
    "            _ = torch.zeros(1).to(torch.device(\"mps\"))\n",
    "            return torch.device(\"mps\")\n",
    "        except RuntimeError:\n",
    "            print(\"MPS device found but not compatible. Falling back to CPU.\")\n",
    "    if torch.cuda.is_available():\n",
    "        return torch.device(\"cuda\")\n",
    "    return torch.device(\"cpu\")\n",
    "\n",
    "device = get_device()\n",
    "print(f\"Using device: {device}\")\n",
    "\n",
    "# Load pre-trained model and tokenizer\n",
    "model = GPT2LMHeadModel.from_pretrained('gpt2').to(device)\n",
    "tokenizer = GPT2Tokenizer.from_pretrained('gpt2')\n",
    "\n",
    "# Set the pad token\n",
    "if tokenizer.pad_token is None:\n",
    "    tokenizer.add_special_tokens({'pad_token': '[PAD]'})\n",
    "    print('tokenizer:::')\n",
    "    print(tokenizer)\n",
    "    model.resize_token_embeddings(len(tokenizer))\n",
    "\n",
    "# Ensure the pad token is set\n",
    "model.config.pad_token_id = tokenizer.pad_token_id"
   ]
  },
  {
   "cell_type": "code",
   "execution_count": 46,
   "metadata": {},
   "outputs": [
    {
     "name": "stderr",
     "output_type": "stream",
     "text": [
      "/Users/petertumulty/.pyenv/versions/3.11.8/lib/python3.11/site-packages/transformers/data/datasets/language_modeling.py:53: FutureWarning: This dataset will be removed from the library soon, preprocessing should be handled with the 🤗 Datasets library. You can have a look at this example script for pointers: https://github.com/huggingface/transformers/blob/main/examples/pytorch/language-modeling/run_mlm.py\n",
      "  warnings.warn(\n"
     ]
    }
   ],
   "source": [
    "# Prepare your data\n",
    "def get_dataset(file_path, tokenizer):\n",
    "    try:\n",
    "        dataset = TextDataset(\n",
    "            tokenizer=tokenizer,\n",
    "            file_path=file_path,\n",
    "            block_size=128)\n",
    "        return dataset\n",
    "    except Exception as e:\n",
    "        print(f\"Error creating dataset: {e}\")\n",
    "        raise\n",
    "\n",
    "train_dataset = get_dataset(\"processed_data/notes.txt\", tokenizer)"
   ]
  },
  {
   "cell_type": "code",
   "execution_count": 47,
   "metadata": {},
   "outputs": [
    {
     "name": "stderr",
     "output_type": "stream",
     "text": [
      "100%|██████████| 12/12 [00:10<00:00,  1.11it/s]"
     ]
    },
    {
     "name": "stdout",
     "output_type": "stream",
     "text": [
      "{'train_runtime': 10.8031, 'train_samples_per_second': 4.165, 'train_steps_per_second': 1.111, 'train_loss': 35.99178568522135, 'epoch': 3.0}\n"
     ]
    },
    {
     "name": "stderr",
     "output_type": "stream",
     "text": [
      "\n"
     ]
    },
    {
     "data": {
      "text/plain": [
       "TrainOutput(global_step=12, training_loss=35.99178568522135, metrics={'train_runtime': 10.8031, 'train_samples_per_second': 4.165, 'train_steps_per_second': 1.111, 'total_flos': 2939535360000.0, 'train_loss': 35.99178568522135, 'epoch': 3.0})"
      ]
     },
     "execution_count": 47,
     "metadata": {},
     "output_type": "execute_result"
    }
   ],
   "source": [
    "# Set up training arguments\n",
    "training_args = TrainingArguments(\n",
    "    output_dir=\"./results\",\n",
    "    overwrite_output_dir=True,\n",
    "    num_train_epochs=3,\n",
    "    per_device_train_batch_size=4,\n",
    "    save_steps=10_000,\n",
    "    save_total_limit=2,\n",
    ")\n",
    "\n",
    "# Create Trainer instance\n",
    "trainer = Trainer(\n",
    "    model=model,\n",
    "    args=training_args,\n",
    "    data_collator=DataCollatorForLanguageModeling(tokenizer=tokenizer, mlm=False),\n",
    "    train_dataset=train_dataset,\n",
    ")\n",
    "\n",
    "# Train the model\n",
    "trainer.train()"
   ]
  },
  {
   "cell_type": "code",
   "execution_count": 48,
   "metadata": {},
   "outputs": [],
   "source": [
    "# Save the fine-tuned model\n",
    "model.save_pretrained(\"./llm/fine_tuned_notes_GPT2\")\n",
    "tokenizer.save_pretrained(\"./llm/fine_tuned_notes_GPT2\")\n",
    "\n",
    "def generate_text(prompt, model, tokenizer, device, max_new_tokens=50):\n",
    "    # Encode the input\n",
    "    inputs = tokenizer.encode_plus(\n",
    "        prompt,\n",
    "        add_special_tokens=True,\n",
    "        return_tensors=\"pt\",\n",
    "        padding=True,\n",
    "        truncation=True,\n",
    "    )\n",
    "    \n",
    "    input_ids = inputs[\"input_ids\"].to(device)\n",
    "    attention_mask = inputs[\"attention_mask\"].to(device)\n",
    "\n",
    "    # Generate text\n",
    "    try:\n",
    "        with torch.no_grad():\n",
    "            output = model.generate(\n",
    "                input_ids=input_ids,\n",
    "                attention_mask=attention_mask,\n",
    "                max_new_tokens=max_new_tokens,\n",
    "                num_return_sequences=1,\n",
    "                no_repeat_ngram_size=2,\n",
    "                pad_token_id=tokenizer.pad_token_id,\n",
    "                do_sample=True,\n",
    "                temperature=0.7,\n",
    "                top_k=50,\n",
    "                top_p=0.95,\n",
    "            )\n",
    "    except RuntimeError as e:\n",
    "        print(f\"Error during generation: {e}\")\n",
    "        print(\"Falling back to CPU for text generation.\")\n",
    "        model.to(\"cpu\")\n",
    "        input_ids = input_ids.to(\"cpu\")\n",
    "        attention_mask = attention_mask.to(\"cpu\")\n",
    "        with torch.no_grad():\n",
    "            output = model.generate(\n",
    "                input_ids=input_ids,\n",
    "                attention_mask=attention_mask,\n",
    "                max_new_tokens=max_new_tokens,\n",
    "                num_return_sequences=1,\n",
    "                no_repeat_ngram_size=2,\n",
    "                pad_token_id=tokenizer.pad_token_id,\n",
    "                do_sample=True,\n",
    "                temperature=0.7,\n",
    "                top_k=50,\n",
    "                top_p=0.95,\n",
    "            )\n",
    "        model.to(device)  # Move the model back to the original device\n",
    "\n",
    "    # Decode and return the generated text\n",
    "    return tokenizer.decode(output[0], skip_special_tokens=True)"
   ]
  },
  {
   "cell_type": "code",
   "execution_count": 54,
   "metadata": {},
   "outputs": [
    {
     "name": "stdout",
     "output_type": "stream",
     "text": [
      "Prompt: What is the meaning of life?\n",
      "Generated text: What is the meaning of life?A:The meaningofLife:LifeThemeaningofThelife:life(Life):Life(life)lifelifeLifeLifeLion:Lives(L)LifeLine:Line(Line)LineLance:LeLineLe\n",
      "\n",
      "Generating 3 different responses:\n",
      "Response 1: What is the meaning of life?is the which is athe meaningofistheisisThe meaningismeaningoflifeis Themeaning oflifeIs themeaningOflifeThemeaningisItisSThe Meaning ofofThethemeaningThesenseTheI,theI\n",
      "Response 2: What is the meaning of life? the life is, the death of,the death isof,lifeoflifeis,Thelife ofThedeath ofthedeathofthelifeOfTheDeathofTheGodTheTheHeavensofGodGodtheGodIsTheSheaven\n",
      "Response 3: What is the meaning of life? isthe meaningoflife is.\n",
      "\n",
      "\n",
      "\n",
      "\n",
      "The way isThewayis thewayIsthewayI'mtheWayIsTheWayIwasTheistheIisTheIwillIWillIshallIhaveIknowIwould\n"
     ]
    }
   ],
   "source": [
    "# Example usage with the new prompt\n",
    "prompt = \"What is the meaning of life?\"\n",
    "generated_text = generate_text(prompt, model, tokenizer, device)\n",
    "print(f\"Prompt: {prompt}\")\n",
    "print(f\"Generated text: {generated_text}\")\n",
    "\n",
    "# Generate multiple responses\n",
    "num_responses = 3\n",
    "print(f\"\\nGenerating {num_responses} different responses:\")\n",
    "for i in range(num_responses):\n",
    "    generated_text = generate_text(prompt, model, tokenizer, device)\n",
    "    print(f\"Response {i+1}: {generated_text}\")"
   ]
  }
 ],
 "metadata": {
  "kernelspec": {
   "display_name": "Python 3",
   "language": "python",
   "name": "python3"
  },
  "language_info": {
   "codemirror_mode": {
    "name": "ipython",
    "version": 3
   },
   "file_extension": ".py",
   "mimetype": "text/x-python",
   "name": "python",
   "nbconvert_exporter": "python",
   "pygments_lexer": "ipython3",
   "version": "3.11.8"
  }
 },
 "nbformat": 4,
 "nbformat_minor": 2
}
